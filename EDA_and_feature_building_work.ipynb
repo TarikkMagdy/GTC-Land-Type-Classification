{
 "cells": [
  {
   "cell_type": "code",
   "execution_count": null,
   "metadata": {
    "id": "Ijd3Y_Qy_EKR"
   },
   "outputs": [],
   "source": [
    "import tensorflow_datasets as tfds\n",
    "import matplotlib.pyplot as plt\n",
    "import numpy as np"
   ]
  },
  {
   "cell_type": "code",
   "execution_count": null,
   "metadata": {
    "colab": {
     "base_uri": "https://localhost:8080/",
     "height": 168,
     "referenced_widgets": [
      "2328e6455dbb425799e1385efa780553",
      "f3896fbd02b24eeba061f33ae028eca5",
      "a20c9a128c9b4ece8f9c0b45e7d7ac08",
      "6cefeba860c44739bbc9d2fb40a2067f",
      "5c3b69ddff634c30ad76b1b4ad3a6d33",
      "9d362bb2728d4267a777d225a7f2396b",
      "0c69707a09ed47368826c54b9514c3f4",
      "1d6285f2cd0d49a19ce53f113b95c763",
      "083ef3bd40aa4b22aba1ee71bc77f107",
      "ebac588cd1564e1c9e354070e39b1c72",
      "eb9ca33f60794d198d5f8929293b884a",
      "685d85becc8b411f8748eeb91ac82d4a",
      "dd9af8659d7c4764aef5a34ae648924d",
      "5dd5720306cc495a9ed58b096f8b9efa",
      "bb50b614f4b84b0e82baca6300bb1c2f",
      "3611bcea93104c6596779e905c4a7b70",
      "62fda13e0530487ea0589bd466eef85d",
      "f6d6a20b53e741d2843fd721099195bb",
      "69cce617ff374df8876ed043493d35b6",
      "63b5235f02d14c05af4089d9b3ba0a7e",
      "9618e20f0f1047b292aa527c8dcf3ec4",
      "6c23b58349a74b40b9977b72492a749f",
      "5e6c43ad8b1b45ae9f7f8053c88e9ecd",
      "298b3ce1b3114523b2632167ad32df4e",
      "580f4c2737d44c8f8e7c9e709225aea9",
      "7f61945b79104a9598473e828fabaed5",
      "f01e418fbebf446ebbd3f4d267eec6f6",
      "46cd7b434a3d4307be4ff9b91f4f2507",
      "f6660238a7864aaf9f664c7c248d4a2c",
      "2022fce572a74dce90f3bc4c1028e71a",
      "615bbbdfe1e74064b47c59fc42071850",
      "803b2bd2b5f84d788be858bc7d5d60eb",
      "79592bc9b0554c28808fc32de591482d",
      "74f277f8dd1e480e9c34cc8a96f04251",
      "8837c61ebf164d08b7c8f260d9afb2c7",
      "d38ec752c23a4365897efe06e8785520",
      "8b8f3399fd5a45089cceb43090c04d19",
      "1443cf3eb07e426c87f36adf33332b94",
      "29654c93ef2e4a18a083783091ca30ff",
      "2e2543afcb1c44d0b4572dc20a4be9cc",
      "7935d772bd3d4523803c8eae70644406",
      "79511c0b098149b7934e75674441c10a",
      "54181d2e82904582b68f6912c085e764",
      "bf32e9f343f349f993afbe4ba450715e",
      "8b0d1a4d0d90465e9063e8631fe1c646",
      "85077d8e170849c09fea8de013e77957",
      "0760d370348d4dc888789fd04d981236",
      "9c28857a04e345cc9446ae55b33507e5",
      "a2edc49cc11343cbb3b2ee7d46657b7b",
      "392f0058282e4473af7be95e99225668",
      "da5b9191bf2b419a8ccfe5c9c954162e",
      "850b3236c97d43efb48d89c90a743b21",
      "364e975daaa24e1881867c717471f005",
      "c4b53b38345c46edb0f623a6fe6e2543",
      "15f4d7ea00af4ea0ad0ccaa057016a42",
      "feb9b76702a649adab0f487676c850c0",
      "19759c5caeb54922885a8330f809676d",
      "dc855db6bd4c48a190626e9014ce05ca",
      "bd78d3d9a4e14c4d9a122ec5963782b5",
      "aac35832ba7b493192d37e9b01886842",
      "4c93f03577a842e0ba269c0d64de8442",
      "1d1d8d1554704c15a41dcc8eb7aa5ba8",
      "3cdde76cd85e44f6b1c7f708d16f77e2",
      "111e8eba17fa4559bd106459ad6c7459",
      "77fc9ddae2f54e30b1700ebc98b2aa2c",
      "b717ae17dc234a38a09fdf2692cfdb92"
     ]
    },
    "id": "rzQexS8gBtzt",
    "outputId": "5e443dd8-a16a-4dbb-b289-cd83943d5070"
   },
   "outputs": [],
   "source": [
    "dataset, info = tfds.load(\"eurosat\", with_info=True, as_supervised=True)"
   ]
  },
  {
   "cell_type": "code",
   "execution_count": null,
   "metadata": {
    "colab": {
     "base_uri": "https://localhost:8080/"
    },
    "id": "VtWCEkZpIsxF",
    "outputId": "fd32bbfc-5cc6-4785-e954-a1c6a0742624"
   },
   "outputs": [],
   "source": [
    "classes= info.features['label'].names\n",
    "classes"
   ]
  },
  {
   "cell_type": "code",
   "execution_count": null,
   "metadata": {
    "colab": {
     "base_uri": "https://localhost:8080/"
    },
    "id": "9NZYDqEjJSL-",
    "outputId": "7f17e9ba-aba2-4178-91a8-e73328a64251"
   },
   "outputs": [],
   "source": [
    "n_classes = len(classes)\n",
    "n_classes"
   ]
  },
  {
   "cell_type": "code",
   "execution_count": null,
   "metadata": {
    "colab": {
     "base_uri": "https://localhost:8080/",
     "height": 611
    },
    "id": "ns5myp0MJXC0",
    "outputId": "eab292ef-605f-4dee-f9d5-8fc8a33303e2"
   },
   "outputs": [],
   "source": [
    "# Showing the first image in each class\n",
    "fig, axes = plt.subplots(2, 5, figsize=(15, 6))\n",
    "for i, label in enumerate(classes):\n",
    "    for img, lbl in dataset[\"train\"].take(500):\n",
    "      if lbl.numpy() == i:\n",
    "        ax = axes[i // 5, i % 5]\n",
    "        ax.imshow(img)\n",
    "        ax.set_title(label)\n",
    "        ax.axis(\"off\")\n",
    "        break\n",
    "plt.tight_layout()\n",
    "plt.show()"
   ]
  },
  {
   "cell_type": "code",
   "execution_count": null,
   "metadata": {
    "colab": {
     "base_uri": "https://localhost:8080/",
     "height": 579
    },
    "id": "hGBlMxHuO008",
    "outputId": "0407f990-2698-4b10-fec0-f1aec239440a"
   },
   "outputs": [],
   "source": [
    "# Bar plot showing class distribution\n",
    "counts = np.zeros(n_classes)\n",
    "for img, lbl in dataset[\"train\"]:\n",
    "  counts[lbl.numpy()] += 1\n",
    "plt.bar(classes, counts)\n",
    "plt.xlabel(\"Class\")\n",
    "plt.ylabel(\"Count\")\n",
    "plt.xticks(rotation=45)\n",
    "plt.title(\"Class Distribution\")\n",
    "plt.show()"
   ]
  },
  {
   "cell_type": "code",
   "execution_count": null,
   "metadata": {
    "colab": {
     "base_uri": "https://localhost:8080/",
     "height": 487
    },
    "id": "6gNULNNqPIa8",
    "outputId": "5b987ef2-7646-4be7-af10-de8717c913b0"
   },
   "outputs": [],
   "source": [
    "pixels_R, pixels_G, pixels_B = [], [], []\n",
    "\n",
    "for img, _ in dataset['train'].take(2000):\n",
    "    img = img.numpy() / 255.0\n",
    "    pixels_R.extend(img[:,:,0].flatten())\n",
    "    pixels_G.extend(img[:,:,1].flatten())\n",
    "    pixels_B.extend(img[:,:,2].flatten())\n",
    "\n",
    "pixels_R = np.array(pixels_R)\n",
    "pixels_G = np.array(pixels_G)\n",
    "pixels_B = np.array(pixels_B)\n",
    "\n",
    "plt.figure(figsize=(12,5))\n",
    "plt.hist(pixels_R, bins=50, color='r', alpha=0.5, label='Red channel')\n",
    "plt.hist(pixels_G, bins=50, color='g', alpha=0.5, label='Green channel')\n",
    "plt.hist(pixels_B, bins=50, color='b', alpha=0.5, label='Blue channel')\n",
    "plt.title(\"Pixel Intensity Distribution per Channel\")\n",
    "plt.xlabel(\"Pixel Intensity (0–1)\")\n",
    "plt.ylabel(\"Frequency\")\n",
    "plt.legend()\n",
    "plt.show()"
   ]
  },
  {
   "cell_type": "code",
   "execution_count": null,
   "metadata": {
    "colab": {
     "base_uri": "https://localhost:8080/",
     "height": 641
    },
    "id": "YZVQ7YmDWif_",
    "outputId": "5208ab9a-d06b-474b-f09c-e336406660db"
   },
   "outputs": [],
   "source": [
    "from sklearn.decomposition import PCA\n",
    "\n",
    "features = []\n",
    "labels = []\n",
    "\n",
    "for img, lbl in dataset['train'].take(5000):\n",
    "    img = img.numpy() / 255.0\n",
    "    mean_rgb = img.mean(axis=(0,1))\n",
    "    features.append(mean_rgb)\n",
    "    labels.append(lbl.numpy())\n",
    "\n",
    "features = np.array(features)\n",
    "labels = np.array(labels)\n",
    "\n",
    "pca = PCA(n_components=2)\n",
    "features_2d = pca.fit_transform(features)\n",
    "\n",
    "plt.figure(figsize=(10, 7))\n",
    "scatter = plt.scatter(features_2d[:, 0], features_2d[:, 1], c=labels, cmap=\"tab10\", alpha=0.7)\n",
    "plt.legend(handles=scatter.legend_elements()[0], labels=classes, bbox_to_anchor=(1.05, 1), loc='upper left')\n",
    "plt.title(\"PCA of Mean RGB Features\")\n",
    "plt.xlabel(\"PC1\")\n",
    "plt.ylabel(\"PC2\")\n",
    "plt.show()"
   ]
  },
  {
   "cell_type": "code",
   "execution_count": null,
   "metadata": {
    "colab": {
     "base_uri": "https://localhost:8080/",
     "height": 468
    },
    "id": "JXWrLYHcXpRe",
    "outputId": "ce129019-164f-4bb5-9063-7058ef4cb548"
   },
   "outputs": [],
   "source": [
    "import pandas as pd\n",
    "import seaborn as sns\n",
    "df_features = pd.DataFrame(features, columns=[\"Red_mean\", \"Green_mean\", \"Blue_mean\"])\n",
    "\n",
    "corr = df_features.corr()\n",
    "plt.figure(figsize=(6,5))\n",
    "sns.heatmap(corr, annot=True, cmap=\"coolwarm\", vmin=-1, vmax=1)\n",
    "plt.title(\"Correlation Heatmap of Mean RGB Channels\")\n",
    "plt.show()"
   ]
  }
 ],
 "metadata": {
  "colab": {
   "provenance": []
  },
  "kernelspec": {
   "display_name": "Python 3",
   "name": "python3"
  },
  "language_info": {
   "name": "python"
  }
 },
 "nbformat": 4,
 "nbformat_minor": 0
}
